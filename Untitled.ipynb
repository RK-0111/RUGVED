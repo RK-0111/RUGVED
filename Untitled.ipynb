{
 "cells": [
  {
   "cell_type": "code",
   "execution_count": 18,
   "id": "5b736816-2366-4d44-8bee-ab8ae4b668f4",
   "metadata": {},
   "outputs": [],
   "source": [
    "import pandas as pd\n",
    "import matplotlib.pyplot as plt\n",
    "import csv\n",
    "df= pd.read_csv('deliveries.csv')\n",
    "df1= pd.read_csv('matches.csv')\n",
    "from collections import Counter"
   ]
  },
  {
   "cell_type": "code",
   "execution_count": 19,
   "id": "7ca2cf03-3e92-465a-8d7f-aff1c8b87fd6",
   "metadata": {},
   "outputs": [
    {
     "data": {
      "text/plain": [
       "Index(['match_id', 'inning', 'batting_team', 'bowling_team', 'over', 'ball',\n",
       "       'batsman', 'non_striker', 'bowler', 'is_super_over', 'wide_runs',\n",
       "       'bye_runs', 'legbye_runs', 'noball_runs', 'penalty_runs',\n",
       "       'batsman_runs', 'extra_runs', 'total_runs', 'player_dismissed',\n",
       "       'dismissal_kind', 'fielder'],\n",
       "      dtype='object')"
      ]
     },
     "execution_count": 19,
     "metadata": {},
     "output_type": "execute_result"
    }
   ],
   "source": [
    "df.columns"
   ]
  },
  {
   "cell_type": "code",
   "execution_count": 20,
   "id": "c70d262e-0349-4e90-9afa-29dea7884601",
   "metadata": {},
   "outputs": [
    {
     "data": {
      "text/plain": [
       "Index(['id', 'season', 'city', 'date', 'team1', 'team2', 'toss_winner',\n",
       "       'toss_decision', 'result', 'dl_applied', 'winner', 'win_by_runs',\n",
       "       'win_by_wickets', 'player_of_match', 'venue', 'umpire1', 'umpire2',\n",
       "       'umpire3'],\n",
       "      dtype='object')"
      ]
     },
     "execution_count": 20,
     "metadata": {},
     "output_type": "execute_result"
    }
   ],
   "source": [
    "df1.columns"
   ]
  },
  {
   "cell_type": "code",
   "execution_count": 21,
   "id": "66966d30-530c-48c0-9a96-8d3ac299f593",
   "metadata": {},
   "outputs": [
    {
     "data": {
      "text/plain": [
       "58"
      ]
     },
     "execution_count": 21,
     "metadata": {},
     "output_type": "execute_result"
    }
   ],
   "source": [
    "#Q1\n",
    "a=df1['season'].value_counts()\n",
    "a.sort_index(inplace=True)\n",
    "a.iloc[0]\n",
    "\n"
   ]
  },
  {
   "cell_type": "code",
   "execution_count": 22,
   "id": "adb34abd-d932-415e-aa1d-92b4761b9011",
   "metadata": {},
   "outputs": [
    {
     "name": "stdout",
     "output_type": "stream",
     "text": [
      "city\n",
      "Mumbai    101\n",
      "Name: count, dtype: int64\n",
      "city\n",
      "Bloemfontein    2\n",
      "Name: count, dtype: int64\n"
     ]
    }
   ],
   "source": [
    "#Q2\n",
    "a=df1['city'].value_counts()\n",
    "print(a.nlargest(1))\n",
    "print(a.nsmallest(1))"
   ]
  },
  {
   "cell_type": "code",
   "execution_count": 23,
   "id": "703e1079-5379-4750-af91-8c60a54327d9",
   "metadata": {},
   "outputs": [
    {
     "data": {
      "text/plain": [
       "city\n",
       "Mumbai            101\n",
       "Kolkata            77\n",
       "Delhi              74\n",
       "Bangalore          66\n",
       "Hyderabad          64\n",
       "Chennai            57\n",
       "Jaipur             47\n",
       "Chandigarh         46\n",
       "Pune               38\n",
       "Durban             15\n",
       "Bengaluru          14\n",
       "Visakhapatnam      13\n",
       "Centurion          12\n",
       "Ahmedabad          12\n",
       "Rajkot             10\n",
       "Mohali             10\n",
       "Indore              9\n",
       "Dharamsala          9\n",
       "Johannesburg        8\n",
       "Cuttack             7\n",
       "Ranchi              7\n",
       "Port Elizabeth      7\n",
       "Cape Town           7\n",
       "Abu Dhabi           7\n",
       "Sharjah             6\n",
       "Raipur              6\n",
       "Kochi               5\n",
       "Kanpur              4\n",
       "Nagpur              3\n",
       "Kimberley           3\n",
       "East London         3\n",
       "Bloemfontein        2\n",
       "Name: count, dtype: int64"
      ]
     },
     "execution_count": 23,
     "metadata": {},
     "output_type": "execute_result"
    }
   ],
   "source": [
    "#Q3\n",
    "df1['city'].value_counts()"
   ]
  },
  {
   "cell_type": "code",
   "execution_count": 24,
   "id": "f7dd96d0-f007-4329-a07f-20eddbb1d001",
   "metadata": {},
   "outputs": [
    {
     "name": "stdout",
     "output_type": "stream",
     "text": [
      "toss_winner\n",
      "Mumbai Indians    98\n",
      "Name: count, dtype: int64\n",
      "toss_winner\n",
      "Rising Pune Supergiant    6\n",
      "Name: count, dtype: int64\n"
     ]
    }
   ],
   "source": [
    "#Q4\n",
    "a=df1['toss_winner'].value_counts()\n",
    "print(a.nlargest(1))\n",
    "print(a.nsmallest(1))"
   ]
  },
  {
   "cell_type": "code",
   "execution_count": 25,
   "id": "0a2d6e7e-2f0e-4d54-a6f1-65aea185b75d",
   "metadata": {},
   "outputs": [
    {
     "data": {
      "text/plain": [
       "toss_decision\n",
       "field    463\n",
       "bat      293\n",
       "Name: count, dtype: int64"
      ]
     },
     "execution_count": 25,
     "metadata": {},
     "output_type": "execute_result"
    }
   ],
   "source": [
    "#Q5\n",
    "df1['toss_decision'].value_counts()\n",
    "#use groupby"
   ]
  },
  {
   "cell_type": "code",
   "execution_count": 26,
   "id": "41c4be41-5c54-4ec9-b7cb-74f0c471cdf4",
   "metadata": {},
   "outputs": [
    {
     "name": "stdout",
     "output_type": "stream",
     "text": [
      "normal matches:\n",
      "743\n",
      "tie matches:\n",
      "9\n"
     ]
    }
   ],
   "source": [
    "#Q6\n",
    "a=df1['result'].value_counts()\n",
    "a.sort_index(inplace=True)\n",
    "print('normal matches:')\n",
    "print(a.iloc[1])\n",
    "print('tie matches:')\n",
    "print(a.iloc[2])\n",
    "\n"
   ]
  },
  {
   "cell_type": "code",
   "execution_count": 27,
   "id": "c95de743-0666-4a5b-a0b6-3c641940b0be",
   "metadata": {},
   "outputs": [
    {
     "data": {
      "text/plain": [
       "<function matplotlib.pyplot.show(close=None, block=None)>"
      ]
     },
     "execution_count": 27,
     "metadata": {},
     "output_type": "execute_result"
    },
    {
     "data": {
      "image/png": "[encoded data removed]",
      "text/plain": [
       "<Figure size 640x480 with 1 Axes>"
      ]
     },
     "metadata": {},
     "output_type": "display_data"
    }
   ],
   "source": [
    "#Q19\n",
    "with open('deliveries.csv') as csv_file:\n",
    " csv_read=csv.DictReader(csv_file)\n",
    " counts= Counter()\n",
    " for row in csv_read:\n",
    "     counts.update(row['dismissal_kind'].split(';'))\n",
    "type_dis=[]\n",
    "time_dis=[]\n",
    "for char in counts.most_common(10):\n",
    "    type_dis.append(char[0])\n",
    "    time_dis.append(char[1])\n",
    "a=list(type_dis)\n",
    "b=list(time_dis)\n",
    "a.remove('')\n",
    "b.remove(170244)\n",
    "plt.barh(a,b)\n",
    "plt.ylabel(\"dismissal kind\")\n",
    "plt.xlabel(\"no.of times\")\n",
    "plt.show\n",
    "    "
   ]
  },
  {
   "cell_type": "code",
   "execution_count": 28,
   "id": "3d791654-e04e-499b-86e1-9aa72b219c65",
   "metadata": {},
   "outputs": [
    {
     "ename": "NameError",
     "evalue": "name 'mom_counts' is not defined",
     "output_type": "error",
     "traceback": [
      "\u001b[0;31m---------------------------------------------------------------------------\u001b[0m",
      "\u001b[0;31mNameError\u001b[0m                                 Traceback (most recent call last)",
      "Cell \u001b[0;32mIn[28], line 3\u001b[0m\n\u001b[1;32m      1\u001b[0m \u001b[38;5;66;03m#Q21\u001b[39;00m\n\u001b[1;32m      2\u001b[0m times\u001b[38;5;241m=\u001b[39m[]\n\u001b[0;32m----> 3\u001b[0m \u001b[38;5;28;01mfor\u001b[39;00m char \u001b[38;5;129;01min\u001b[39;00m \u001b[43mmom_counts\u001b[49m\u001b[38;5;241m.\u001b[39mmost_common(\u001b[38;5;241m15\u001b[39m):\n\u001b[1;32m      4\u001b[0m     player\u001b[38;5;241m.\u001b[39mappend(char[\u001b[38;5;241m0\u001b[39m])\n\u001b[1;32m      5\u001b[0m     times\u001b[38;5;241m.\u001b[39mappend(char[\u001b[38;5;241m1\u001b[39m])\n",
      "\u001b[0;31mNameError\u001b[0m: name 'mom_counts' is not defined"
     ]
    }
   ],
   "source": [
    "#Q21\n",
    "times=[]\n",
    "for char in mom_counts.most_common(15):\n",
    "    player.append(char[0])\n",
    "    times.append(char[1])\n",
    "x=player\n",
    "y=times\n",
    "plt.pie(y,labels=x)\n",
    "plt.show\n"
   ]
  },
  {
   "cell_type": "code",
   "execution_count": 29,
   "id": "1aca95bd-c8e6-4a8a-88f5-aa3f931c8780",
   "metadata": {},
   "outputs": [
    {
     "name": "stdout",
     "output_type": "stream",
     "text": [
      "Counter({'Mumbai Indians': 187, 'Royal Challengers Bangalore': 180, 'Kolkata Knight Riders': 178, 'Kings XI Punjab': 176, 'Chennai Super Kings': 164, 'Delhi Daredevils': 161, 'Rajasthan Royals': 147, 'Sunrisers Hyderabad': 108, 'Deccan Chargers': 75, 'Pune Warriors': 46, 'Gujarat Lions': 30, 'Rising Pune Supergiant': 16, 'Delhi Capitals': 16, 'Kochi Tuskers Kerala': 14, 'Rising Pune Supergiants': 14})\n"
     ]
    }
   ],
   "source": [
    "#Q22\n",
    "with open('matches.csv') as csv_file:\n",
    " csv_read=csv.DictReader(csv_file)\n",
    " t1_counts=Counter()\n",
    " t2_counts=Counter()\n",
    " for row in csv_read:\n",
    "     t1_counts.update(row['team1'].split(';'))\n",
    "     t2_counts.update(row['team2'].split(';'))\n",
    "t1_counts.update(t2_counts)\n",
    "print(t1_counts)"
   ]
  },
  {
   "cell_type": "code",
   "execution_count": 30,
   "id": "70b6ffd3-2888-44fd-8c0c-8726fa447de2",
   "metadata": {},
   "outputs": [
    {
     "name": "stdout",
     "output_type": "stream",
     "text": [
      "Counter({'Mumbai Indians': 109, 'Chennai Super Kings': 100, 'Kolkata Knight Riders': 92, 'Royal Challengers Bangalore': 84, 'Kings XI Punjab': 82, 'Rajasthan Royals': 75, 'Delhi Daredevils': 67, 'Sunrisers Hyderabad': 58, 'Deccan Chargers': 29, 'Gujarat Lions': 13, 'Pune Warriors': 12, 'Rising Pune Supergiant': 10, 'Delhi Capitals': 10, 'Kochi Tuskers Kerala': 6, 'Rising Pune Supergiants': 5, '': 4})\n"
     ]
    }
   ],
   "source": [
    "#Q24\n",
    "with open('matches.csv') as csv_file:\n",
    " csv_read=csv.DictReader(csv_file)\n",
    " win_counts=Counter()\n",
    " for row in csv_read:\n",
    "     win_counts.update(row['winner'].split(';'))\n",
    "print(win_counts)"
   ]
  },
  {
   "cell_type": "code",
   "execution_count": 15,
   "id": "26a74610-9f92-488d-89ce-d0df16711e13",
   "metadata": {},
   "outputs": [
    {
     "data": {
      "text/plain": [
       "toss_winner                  toss_decision\n",
       "Chennai Super Kings          bat              48\n",
       "                             field            41\n",
       "Deccan Chargers              bat              24\n",
       "                             field            19\n",
       "Delhi Capitals               bat               2\n",
       "                             field             8\n",
       "Delhi Daredevils             bat              29\n",
       "                             field            51\n",
       "Gujarat Lions                bat               1\n",
       "                             field            14\n",
       "Kings XI Punjab              bat              26\n",
       "                             field            55\n",
       "Kochi Tuskers Kerala         bat               3\n",
       "                             field             5\n",
       "Kolkata Knight Riders        bat              30\n",
       "                             field            62\n",
       "Mumbai Indians               bat              44\n",
       "                             field            54\n",
       "Pune Warriors                bat              11\n",
       "                             field             9\n",
       "Rajasthan Royals             bat              32\n",
       "                             field            48\n",
       "Rising Pune Supergiant       field             6\n",
       "Rising Pune Supergiants      bat               3\n",
       "                             field             4\n",
       "Royal Challengers Bangalore  bat              20\n",
       "                             field            61\n",
       "Sunrisers Hyderabad          bat              20\n",
       "                             field            26\n",
       "Name: count, dtype: int64"
      ]
     },
     "execution_count": 15,
     "metadata": {},
     "output_type": "execute_result"
    }
   ],
   "source": [
    "#Q26\n",
    "a=df1[['toss_winner','toss_decision']].value_counts()\n",
    "a.sort_index(inplace=True)\n",
    "a"
   ]
  },
  {
   "cell_type": "code",
   "execution_count": 16,
   "id": "3c198124-42af-43ea-9510-e29e91af622c",
   "metadata": {},
   "outputs": [
    {
     "data": {
      "text/plain": [
       "0       63002\n",
       "1       73059\n",
       "2       13125\n",
       "3         688\n",
       "4       20599\n",
       "5         339\n",
       "6        8148\n",
       "7          38\n",
       "8          64\n",
       "10         16\n",
       "2008       58\n",
       "2009       57\n",
       "2010       60\n",
       "2011       73\n",
       "2012       74\n",
       "2013       76\n",
       "2014       60\n",
       "2015       59\n",
       "2016       60\n",
       "2017       59\n",
       "2018       60\n",
       "2019       60\n",
       "Name: count, dtype: int64"
      ]
     },
     "execution_count": 16,
     "metadata": {},
     "output_type": "execute_result"
    }
   ],
   "source": [
    "#Q16??\n",
    "a=df['total_runs']\n",
    "b=df1['season']\n",
    "runs=pd.concat([a,b],axis='rows')\n",
    "runs.value_counts().sort_index()"
   ]
  },
  {
   "cell_type": "code",
   "execution_count": 80,
   "id": "2a181931-39f1-4f2b-9c49-42bc2ae8d292",
   "metadata": {},
   "outputs": [
    {
     "data": {
      "text/plain": [
       "{'Chennai Super Kings',\n",
       " 'Deccan Chargers',\n",
       " 'Delhi Capitals',\n",
       " 'Delhi Daredevils',\n",
       " 'Gujarat Lions',\n",
       " 'Kings XI Punjab',\n",
       " 'Kochi Tuskers Kerala',\n",
       " 'Kolkata Knight Riders',\n",
       " 'Mumbai Indians',\n",
       " 'Pune Warriors',\n",
       " 'Rajasthan Royals',\n",
       " 'Rising Pune Supergiant',\n",
       " 'Rising Pune Supergiants',\n",
       " 'Royal Challengers Bangalore',\n",
       " 'Sunrisers Hyderabad'}"
      ]
     },
     "execution_count": 80,
     "metadata": {},
     "output_type": "execute_result"
    }
   ],
   "source": [
    "df1 = df1[df1['result'] != 'tie']\n",
    "l=list(df1['team1'])\n",
    "b=list(df1['team2'])\n",
    "l=l+b\n",
    "set(l)"
   ]
  },
  {
   "cell_type": "code",
   "execution_count": 66,
   "id": "8010d2b0-3993-48d3-9894-1036b49fc73d",
   "metadata": {},
   "outputs": [
    {
     "data": {
      "text/plain": [
       "result\n",
       "normal       743\n",
       "tie            9\n",
       "no result      4\n",
       "Name: count, dtype: int64"
      ]
     },
     "execution_count": 66,
     "metadata": {},
     "output_type": "execute_result"
    }
   ],
   "source": [
    "df1['result'].value_counts()"
   ]
  },
  {
   "cell_type": "code",
   "execution_count": null,
   "id": "ec087bc5-2dd7-41a4-b176-e926c70893a7",
   "metadata": {},
   "outputs": [],
   "source": []
  }
 ],
 "metadata": {
  "kernelspec": {
   "display_name": "Python 3 (ipykernel)",
   "language": "python",
   "name": "python3"
  },
  "language_info": {
   "codemirror_mode": {
    "name": "ipython",
    "version": 3
   },
   "file_extension": ".py",
   "mimetype": "text/x-python",
   "name": "python",
   "nbconvert_exporter": "python",
   "pygments_lexer": "ipython3",
   "version": "3.8.10"
  }
 },
 "nbformat": 4,
 "nbformat_minor": 5
}
