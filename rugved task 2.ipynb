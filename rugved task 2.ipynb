{
 "cells": [
  {
   "cell_type": "code",
   "execution_count": 1,
   "id": "8925c9d0-58fd-4f9e-affd-225b583985e9",
   "metadata": {},
   "outputs": [],
   "source": [
    "import cv2 as cv\n",
    "import numpy as np\n"
   ]
  },
  {
   "cell_type": "code",
   "execution_count": 2,
   "id": "37a8005a-5a9f-41a2-be7c-6410dcc00a99",
   "metadata": {},
   "outputs": [],
   "source": [
    "capture = cv.VideoCapture('/home/rk/Downloads/video.mp4')"
   ]
  },
  {
   "cell_type": "code",
   "execution_count": 3,
   "id": "daaf7a55-5d9f-4954-b6b1-3c15e5811d6e",
   "metadata": {},
   "outputs": [
    {
     "data": {
      "text/plain": [
       "<function destroyAllWindows>"
      ]
     },
     "execution_count": 3,
     "metadata": {},
     "output_type": "execute_result"
    }
   ],
   "source": [
    "while True:\n",
    "    isTrue, frame = capture.read()\n",
    "    cv.imshow('Video',frame)\n",
    "\n",
    "    if cv.waitKey(20) & 0xFF==ord('d'):\n",
    "        break\n",
    "capture.release()\n",
    "cv.destroyAllWindows()"
   ]
  },
  {
   "cell_type": "code",
   "execution_count": 3,
   "id": "96d174a4-8f15-4ffe-89d1-fea91133b2e7",
   "metadata": {},
   "outputs": [],
   "source": [
    "while capture.isOpened():\n",
    "    ret, frame = capture.read()\n",
    "\n",
    "    if not ret:\n",
    "        break\n",
    "\n",
    "    lower_range = np.array([40, 40, 40])\n",
    "    upper_range = np.array([80, 255, 255])\n",
    "    frame_hsv = cv.cvtColor(frame, cv.COLOR_BGR2HSV)\n",
    "    filt_image = cv.inRange(frame_hsv, lower_range, upper_range)\n",
    "    contours, hierarchy = cv.findContours(filt_image, cv.RETR_EXTERNAL, cv.CHAIN_APPROX_SIMPLE)\n",
    "    if contours:\n",
    "        x, y, width, height = cv.boundingRect(max(contours, key=cv.contourArea))\n",
    "        cv.circle(frame, (int(x+(width/2)),int(y+(height/2))), int((width+height)/4), (0,0,255),2)\n",
    "      \n",
    "    cv.imshow(\"Ball Tracking\",frame)\n",
    "\n",
    "    if cv.waitKey(20) & 0xFF == ord('d'):\n",
    "        break\n",
    "\n",
    "capture.release()\n",
    "cv.destroyAllWindows()\n"
   ]
  },
  {
   "cell_type": "code",
   "execution_count": null,
   "id": "b1cfe6a7-cccd-4bc0-b981-ce7a56fe165a",
   "metadata": {},
   "outputs": [],
   "source": []
  },
  {
   "cell_type": "code",
   "execution_count": null,
   "id": "7af331bb-23bd-4ade-a2f5-f379b64aed1e",
   "metadata": {},
   "outputs": [],
   "source": []
  }
 ],
 "metadata": {
  "kernelspec": {
   "display_name": "Python 3 (ipykernel)",
   "language": "python",
   "name": "python3"
  },
  "language_info": {
   "codemirror_mode": {
    "name": "ipython",
    "version": 3
   },
   "file_extension": ".py",
   "mimetype": "text/x-python",
   "name": "python",
   "nbconvert_exporter": "python",
   "pygments_lexer": "ipython3",
   "version": "3.8.10"
  }
 },
 "nbformat": 4,
 "nbformat_minor": 5
}
